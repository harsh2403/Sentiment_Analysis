{
 "cells": [
  {
   "cell_type": "code",
   "execution_count": 2,
   "metadata": {},
   "outputs": [],
   "source": [
    "import pandas as pd\n",
    "import os\n",
    "import matplotlib.pyplot as plt\n",
    "import nltk\n",
    "from nltk.corpus import stopwords\n",
    "import re\n",
    "from wordcloud import WordCloud , ImageColorGenerator\n",
    "from collections import Counter"
   ]
  },
  {
   "cell_type": "code",
   "execution_count": 3,
   "metadata": {},
   "outputs": [
    {
     "ename": "FileNotFoundError",
     "evalue": "[Errno 2] No such file or directory: 'clean.csv'",
     "output_type": "error",
     "traceback": [
      "\u001b[1;31m---------------------------------------------------------------------------\u001b[0m",
      "\u001b[1;31mFileNotFoundError\u001b[0m                         Traceback (most recent call last)",
      "\u001b[1;32m<ipython-input-3-ca9775e225cb>\u001b[0m in \u001b[0;36m<module>\u001b[1;34m\u001b[0m\n\u001b[1;32m----> 1\u001b[1;33m \u001b[0mproduct_reviews\u001b[0m \u001b[1;33m=\u001b[0m \u001b[0mpd\u001b[0m\u001b[1;33m.\u001b[0m\u001b[0mread_csv\u001b[0m\u001b[1;33m(\u001b[0m\u001b[1;34m'clean.csv'\u001b[0m\u001b[1;33m)\u001b[0m\u001b[1;33m\u001b[0m\u001b[1;33m\u001b[0m\u001b[0m\n\u001b[0m\u001b[0;32m      2\u001b[0m \u001b[0mtrain\u001b[0m \u001b[1;33m=\u001b[0m \u001b[0mpd\u001b[0m\u001b[1;33m.\u001b[0m\u001b[0mread_csv\u001b[0m\u001b[1;33m(\u001b[0m\u001b[1;34m'train.csv'\u001b[0m\u001b[1;33m)\u001b[0m\u001b[1;33m\u001b[0m\u001b[1;33m\u001b[0m\u001b[0m\n",
      "\u001b[1;32m~\\Anaconda3\\lib\\site-packages\\pandas\\io\\parsers.py\u001b[0m in \u001b[0;36mread_csv\u001b[1;34m(filepath_or_buffer, sep, delimiter, header, names, index_col, usecols, squeeze, prefix, mangle_dupe_cols, dtype, engine, converters, true_values, false_values, skipinitialspace, skiprows, skipfooter, nrows, na_values, keep_default_na, na_filter, verbose, skip_blank_lines, parse_dates, infer_datetime_format, keep_date_col, date_parser, dayfirst, cache_dates, iterator, chunksize, compression, thousands, decimal, lineterminator, quotechar, quoting, doublequote, escapechar, comment, encoding, dialect, error_bad_lines, warn_bad_lines, delim_whitespace, low_memory, memory_map, float_precision)\u001b[0m\n\u001b[0;32m    684\u001b[0m     )\n\u001b[0;32m    685\u001b[0m \u001b[1;33m\u001b[0m\u001b[0m\n\u001b[1;32m--> 686\u001b[1;33m     \u001b[1;32mreturn\u001b[0m \u001b[0m_read\u001b[0m\u001b[1;33m(\u001b[0m\u001b[0mfilepath_or_buffer\u001b[0m\u001b[1;33m,\u001b[0m \u001b[0mkwds\u001b[0m\u001b[1;33m)\u001b[0m\u001b[1;33m\u001b[0m\u001b[1;33m\u001b[0m\u001b[0m\n\u001b[0m\u001b[0;32m    687\u001b[0m \u001b[1;33m\u001b[0m\u001b[0m\n\u001b[0;32m    688\u001b[0m \u001b[1;33m\u001b[0m\u001b[0m\n",
      "\u001b[1;32m~\\Anaconda3\\lib\\site-packages\\pandas\\io\\parsers.py\u001b[0m in \u001b[0;36m_read\u001b[1;34m(filepath_or_buffer, kwds)\u001b[0m\n\u001b[0;32m    450\u001b[0m \u001b[1;33m\u001b[0m\u001b[0m\n\u001b[0;32m    451\u001b[0m     \u001b[1;31m# Create the parser.\u001b[0m\u001b[1;33m\u001b[0m\u001b[1;33m\u001b[0m\u001b[1;33m\u001b[0m\u001b[0m\n\u001b[1;32m--> 452\u001b[1;33m     \u001b[0mparser\u001b[0m \u001b[1;33m=\u001b[0m \u001b[0mTextFileReader\u001b[0m\u001b[1;33m(\u001b[0m\u001b[0mfp_or_buf\u001b[0m\u001b[1;33m,\u001b[0m \u001b[1;33m**\u001b[0m\u001b[0mkwds\u001b[0m\u001b[1;33m)\u001b[0m\u001b[1;33m\u001b[0m\u001b[1;33m\u001b[0m\u001b[0m\n\u001b[0m\u001b[0;32m    453\u001b[0m \u001b[1;33m\u001b[0m\u001b[0m\n\u001b[0;32m    454\u001b[0m     \u001b[1;32mif\u001b[0m \u001b[0mchunksize\u001b[0m \u001b[1;32mor\u001b[0m \u001b[0miterator\u001b[0m\u001b[1;33m:\u001b[0m\u001b[1;33m\u001b[0m\u001b[1;33m\u001b[0m\u001b[0m\n",
      "\u001b[1;32m~\\Anaconda3\\lib\\site-packages\\pandas\\io\\parsers.py\u001b[0m in \u001b[0;36m__init__\u001b[1;34m(self, f, engine, **kwds)\u001b[0m\n\u001b[0;32m    934\u001b[0m             \u001b[0mself\u001b[0m\u001b[1;33m.\u001b[0m\u001b[0moptions\u001b[0m\u001b[1;33m[\u001b[0m\u001b[1;34m\"has_index_names\"\u001b[0m\u001b[1;33m]\u001b[0m \u001b[1;33m=\u001b[0m \u001b[0mkwds\u001b[0m\u001b[1;33m[\u001b[0m\u001b[1;34m\"has_index_names\"\u001b[0m\u001b[1;33m]\u001b[0m\u001b[1;33m\u001b[0m\u001b[1;33m\u001b[0m\u001b[0m\n\u001b[0;32m    935\u001b[0m \u001b[1;33m\u001b[0m\u001b[0m\n\u001b[1;32m--> 936\u001b[1;33m         \u001b[0mself\u001b[0m\u001b[1;33m.\u001b[0m\u001b[0m_make_engine\u001b[0m\u001b[1;33m(\u001b[0m\u001b[0mself\u001b[0m\u001b[1;33m.\u001b[0m\u001b[0mengine\u001b[0m\u001b[1;33m)\u001b[0m\u001b[1;33m\u001b[0m\u001b[1;33m\u001b[0m\u001b[0m\n\u001b[0m\u001b[0;32m    937\u001b[0m \u001b[1;33m\u001b[0m\u001b[0m\n\u001b[0;32m    938\u001b[0m     \u001b[1;32mdef\u001b[0m \u001b[0mclose\u001b[0m\u001b[1;33m(\u001b[0m\u001b[0mself\u001b[0m\u001b[1;33m)\u001b[0m\u001b[1;33m:\u001b[0m\u001b[1;33m\u001b[0m\u001b[1;33m\u001b[0m\u001b[0m\n",
      "\u001b[1;32m~\\Anaconda3\\lib\\site-packages\\pandas\\io\\parsers.py\u001b[0m in \u001b[0;36m_make_engine\u001b[1;34m(self, engine)\u001b[0m\n\u001b[0;32m   1166\u001b[0m     \u001b[1;32mdef\u001b[0m \u001b[0m_make_engine\u001b[0m\u001b[1;33m(\u001b[0m\u001b[0mself\u001b[0m\u001b[1;33m,\u001b[0m \u001b[0mengine\u001b[0m\u001b[1;33m=\u001b[0m\u001b[1;34m\"c\"\u001b[0m\u001b[1;33m)\u001b[0m\u001b[1;33m:\u001b[0m\u001b[1;33m\u001b[0m\u001b[1;33m\u001b[0m\u001b[0m\n\u001b[0;32m   1167\u001b[0m         \u001b[1;32mif\u001b[0m \u001b[0mengine\u001b[0m \u001b[1;33m==\u001b[0m \u001b[1;34m\"c\"\u001b[0m\u001b[1;33m:\u001b[0m\u001b[1;33m\u001b[0m\u001b[1;33m\u001b[0m\u001b[0m\n\u001b[1;32m-> 1168\u001b[1;33m             \u001b[0mself\u001b[0m\u001b[1;33m.\u001b[0m\u001b[0m_engine\u001b[0m \u001b[1;33m=\u001b[0m \u001b[0mCParserWrapper\u001b[0m\u001b[1;33m(\u001b[0m\u001b[0mself\u001b[0m\u001b[1;33m.\u001b[0m\u001b[0mf\u001b[0m\u001b[1;33m,\u001b[0m \u001b[1;33m**\u001b[0m\u001b[0mself\u001b[0m\u001b[1;33m.\u001b[0m\u001b[0moptions\u001b[0m\u001b[1;33m)\u001b[0m\u001b[1;33m\u001b[0m\u001b[1;33m\u001b[0m\u001b[0m\n\u001b[0m\u001b[0;32m   1169\u001b[0m         \u001b[1;32melse\u001b[0m\u001b[1;33m:\u001b[0m\u001b[1;33m\u001b[0m\u001b[1;33m\u001b[0m\u001b[0m\n\u001b[0;32m   1170\u001b[0m             \u001b[1;32mif\u001b[0m \u001b[0mengine\u001b[0m \u001b[1;33m==\u001b[0m \u001b[1;34m\"python\"\u001b[0m\u001b[1;33m:\u001b[0m\u001b[1;33m\u001b[0m\u001b[1;33m\u001b[0m\u001b[0m\n",
      "\u001b[1;32m~\\Anaconda3\\lib\\site-packages\\pandas\\io\\parsers.py\u001b[0m in \u001b[0;36m__init__\u001b[1;34m(self, src, **kwds)\u001b[0m\n\u001b[0;32m   1996\u001b[0m         \u001b[0mkwds\u001b[0m\u001b[1;33m[\u001b[0m\u001b[1;34m\"usecols\"\u001b[0m\u001b[1;33m]\u001b[0m \u001b[1;33m=\u001b[0m \u001b[0mself\u001b[0m\u001b[1;33m.\u001b[0m\u001b[0musecols\u001b[0m\u001b[1;33m\u001b[0m\u001b[1;33m\u001b[0m\u001b[0m\n\u001b[0;32m   1997\u001b[0m \u001b[1;33m\u001b[0m\u001b[0m\n\u001b[1;32m-> 1998\u001b[1;33m         \u001b[0mself\u001b[0m\u001b[1;33m.\u001b[0m\u001b[0m_reader\u001b[0m \u001b[1;33m=\u001b[0m \u001b[0mparsers\u001b[0m\u001b[1;33m.\u001b[0m\u001b[0mTextReader\u001b[0m\u001b[1;33m(\u001b[0m\u001b[0msrc\u001b[0m\u001b[1;33m,\u001b[0m \u001b[1;33m**\u001b[0m\u001b[0mkwds\u001b[0m\u001b[1;33m)\u001b[0m\u001b[1;33m\u001b[0m\u001b[1;33m\u001b[0m\u001b[0m\n\u001b[0m\u001b[0;32m   1999\u001b[0m         \u001b[0mself\u001b[0m\u001b[1;33m.\u001b[0m\u001b[0munnamed_cols\u001b[0m \u001b[1;33m=\u001b[0m \u001b[0mself\u001b[0m\u001b[1;33m.\u001b[0m\u001b[0m_reader\u001b[0m\u001b[1;33m.\u001b[0m\u001b[0munnamed_cols\u001b[0m\u001b[1;33m\u001b[0m\u001b[1;33m\u001b[0m\u001b[0m\n\u001b[0;32m   2000\u001b[0m \u001b[1;33m\u001b[0m\u001b[0m\n",
      "\u001b[1;32mpandas\\_libs\\parsers.pyx\u001b[0m in \u001b[0;36mpandas._libs.parsers.TextReader.__cinit__\u001b[1;34m()\u001b[0m\n",
      "\u001b[1;32mpandas\\_libs\\parsers.pyx\u001b[0m in \u001b[0;36mpandas._libs.parsers.TextReader._setup_parser_source\u001b[1;34m()\u001b[0m\n",
      "\u001b[1;31mFileNotFoundError\u001b[0m: [Errno 2] No such file or directory: 'clean.csv'"
     ]
    }
   ],
   "source": [
    "product_reviews = pd.read_csv('clean.csv')\n",
    "train = pd.read_csv('train.csv')"
   ]
  },
  {
   "cell_type": "markdown",
   "metadata": {},
   "source": [
    "# Ratings for the top 5 Brands"
   ]
  },
  {
   "cell_type": "code",
   "execution_count": null,
   "metadata": {},
   "outputs": [],
   "source": [
    "product_reviews['brandName'].value_counts().head()"
   ]
  },
  {
   "cell_type": "code",
   "execution_count": null,
   "metadata": {},
   "outputs": [],
   "source": [
    "cinthol_rat = product_reviews[product_reviews['brandName']=='Cinthol']\n",
    "him_rat = product_reviews[product_reviews['brandName']=='Himalaya']\n",
    "mam_rat = product_reviews[product_reviews['brandName']=='Mamaearth']\n",
    "tit_rat = product_reviews[product_reviews['brandName']=='Titan']\n",
    "god_rat = product_reviews[product_reviews['brandName']=='Godrej']\n",
    "\n",
    "plt.subplot(3,2,1)\n",
    "plt.hist(cinthol_rat['rating'],bins=5)\n",
    "plt.title('Cinthol')\n",
    "plt.xlabel('Rating')\n",
    "plt.ylabel('No of Ratings')\n",
    "\n",
    "\n",
    "plt.subplot(3,2,2)\n",
    "plt.hist(him_rat['rating'],bins=5)\n",
    "plt.title('Himalaya')\n",
    "plt.xlabel('Rating')\n",
    "plt.ylabel('No of Ratings')\n",
    "\n",
    "\n",
    "plt.subplot(3,2,3)\n",
    "plt.hist(mam_rat['rating'],bins=5)\n",
    "plt.title('Mamaearth')\n",
    "plt.xlabel('Rating')\n",
    "plt.ylabel('No of Ratings')\n",
    "\n",
    "\n",
    "plt.subplot(3,2,4)\n",
    "plt.hist(tit_rat['rating'],bins=5)\n",
    "plt.title('Titan')\n",
    "plt.xlabel('Rating')\n",
    "plt.ylabel('No of Ratings')\n",
    "\n",
    "\n",
    "plt.subplot(3,2,5)\n",
    "plt.hist(god_rat['rating'],bins=5)\n",
    "plt.title('Godrej')\n",
    "plt.xlabel('Rating')\n",
    "plt.ylabel('No of Ratings')\n",
    "\n",
    "plt.tight_layout()\n",
    "plt.show()"
   ]
  },
  {
   "cell_type": "markdown",
   "metadata": {},
   "source": [
    "# Ratings of the bottom 5 Brands"
   ]
  },
  {
   "cell_type": "code",
   "execution_count": null,
   "metadata": {},
   "outputs": [],
   "source": [
    "product_reviews['brandName'].value_counts().tail()"
   ]
  },
  {
   "cell_type": "code",
   "execution_count": null,
   "metadata": {},
   "outputs": [],
   "source": [
    "mag_rat = product_reviews[product_reviews['brandName']=='Maggi']\n",
    "maaz_rat = product_reviews[product_reviews['brandName']=='Maaza']\n",
    "sav_rat = product_reviews[product_reviews['brandName']=='Savlon']\n",
    "nutri_rat = product_reviews[product_reviews['brandName']=='NutriChoice']\n",
    "ind_rat = product_reviews[product_reviews['brandName']=='Indiana']\n",
    "\n",
    "plt.subplot(3,2,1)\n",
    "plt.hist(mag_rat['rating'],bins=5)\n",
    "plt.title('Maggi')\n",
    "plt.xlabel('Rating')\n",
    "plt.ylabel('No of Ratings')\n",
    "\n",
    "\n",
    "plt.subplot(3,2,2)\n",
    "plt.hist(maaz_rat['rating'],bins=5)\n",
    "plt.title('Maaza')\n",
    "plt.xlabel('Rating')\n",
    "plt.ylabel('No of Ratings')\n",
    "\n",
    "\n",
    "plt.subplot(3,2,3)\n",
    "plt.hist(sav_rat['rating'],bins=5)\n",
    "plt.title('Savlon')\n",
    "plt.xlabel('Rating')\n",
    "plt.ylabel('No of Ratings')\n",
    "\n",
    "\n",
    "plt.subplot(3,2,4)\n",
    "plt.hist(nutri_rat['rating'],bins=5)\n",
    "plt.title('NutriChoice')\n",
    "plt.xlabel('Rating')\n",
    "plt.ylabel('No of Ratings')\n",
    "\n",
    "\n",
    "plt.subplot(3,2,5)\n",
    "plt.hist(ind_rat['rating'],bins=5)\n",
    "plt.title('Indiana')\n",
    "plt.xlabel('Rating')\n",
    "plt.ylabel('No of Ratings')\n",
    "\n",
    "plt.tight_layout()\n",
    "plt.show()"
   ]
  },
  {
   "cell_type": "markdown",
   "metadata": {},
   "source": [
    "# Wordcloud by rating"
   ]
  },
  {
   "cell_type": "markdown",
   "metadata": {},
   "source": [
    "### 1 star rating Wordcloud"
   ]
  },
  {
   "cell_type": "code",
   "execution_count": null,
   "metadata": {},
   "outputs": [],
   "source": [
    "word_1 =  pd.DataFrame(train[train['rating']==1]['review'])\n",
    "word_1 = word_1.reset_index()\n",
    "word_1 = word_1.drop(['index'], axis = 1) \n",
    "word_1.head()"
   ]
  },
  {
   "cell_type": "code",
   "execution_count": null,
   "metadata": {},
   "outputs": [],
   "source": [
    "nltk.download('stopwords')\n",
    "stop_words = stopwords.words('english')"
   ]
  },
  {
   "cell_type": "code",
   "execution_count": null,
   "metadata": {},
   "outputs": [],
   "source": [
    "corpus1 = []\n",
    "for i in range(0,len(word_1)):\n",
    "    text = re.sub('[^a-zA-Z]', ' ', word_1['review'][i])\n",
    "    text = text.lower()\n",
    "    text = text.split()\n",
    "    text = [word for word in text if not word in stop_words]\n",
    "    text = ' '.join(text)\n",
    "    corpus1.append(text)\n",
    "    \n",
    "word_cloud1 = WordCloud(width = 800,\n",
    "                       height = 600,\n",
    "                       colormap = 'RdYlGn', \n",
    "                       margin = 0,\n",
    "                       max_words = 200,  \n",
    "                       min_word_length = 4,\n",
    "                       max_font_size = 120, \n",
    "                       background_color = 'black').generate(' '.join(corpus1))\n",
    "\n",
    "plt.figure(figsize = (10, 10))\n",
    "plt.imshow(word_cloud1, interpolation = 'gaussian')\n",
    "plt.title('1 Star Review ')\n",
    "plt.axis('off')\n",
    "plt.savefig('1 star')\n",
    "\n",
    "rating1_words = list(word_cloud1.words_.keys())\n",
    "\n"
   ]
  },
  {
   "cell_type": "markdown",
   "metadata": {},
   "source": [
    "### 2 star rating wordCloud"
   ]
  },
  {
   "cell_type": "code",
   "execution_count": null,
   "metadata": {},
   "outputs": [],
   "source": [
    "word_2 =  pd.DataFrame(train[train['rating']==2]['review'])\n",
    "word_2 = word_2.reset_index()\n",
    "word_2 = word_2.drop(['index'], axis = 1) \n",
    "word_2.head()"
   ]
  },
  {
   "cell_type": "code",
   "execution_count": null,
   "metadata": {},
   "outputs": [],
   "source": [
    "corpus2 = []\n",
    "for i in range(0,len(word_2)):\n",
    "    text = re.sub('[^a-zA-Z]', ' ', word_2['review'][i])\n",
    "    text = text.lower()\n",
    "    text = text.split()\n",
    "    text = [word for word in text if not word in stop_words]\n",
    "    text = ' '.join(text)\n",
    "    corpus2.append(text)\n",
    "    \n",
    "word_cloud2 = WordCloud(width = 800,\n",
    "                       height = 600,\n",
    "                       colormap = 'RdYlGn', \n",
    "                       margin = 0,\n",
    "                       max_words = 200,  \n",
    "                       min_word_length = 4,\n",
    "                       max_font_size = 120, \n",
    "                       background_color = 'black').generate(' '.join(corpus2))\n",
    "\n",
    "plt.figure(figsize = (10, 10))\n",
    "plt.imshow(word_cloud2, interpolation = 'gaussian')\n",
    "plt.title('2 Star Review ')\n",
    "plt.axis('off')\n",
    "plt.show()\n",
    "\n",
    "rating2_words = list(word_cloud2.words_.keys())\n",
    "\n"
   ]
  },
  {
   "cell_type": "markdown",
   "metadata": {},
   "source": [
    "### 3 star rating Wordcloud"
   ]
  },
  {
   "cell_type": "code",
   "execution_count": null,
   "metadata": {},
   "outputs": [],
   "source": [
    "word_3 =  pd.DataFrame(train[train['rating']==3]['review'])\n",
    "word_3 = word_3.reset_index()\n",
    "word_3 = word_3.drop(['index'], axis = 1) \n",
    "word_3.head()"
   ]
  },
  {
   "cell_type": "code",
   "execution_count": null,
   "metadata": {},
   "outputs": [],
   "source": [
    "corpus3 = []\n",
    "for i in range(0,len(word_3)):\n",
    "    text = re.sub('[^a-zA-Z]', ' ', word_3['review'][i])\n",
    "    text = text.lower()\n",
    "    text = text.split()\n",
    "    text = [word for word in text if not word in stop_words]\n",
    "    text = ' '.join(text)\n",
    "    corpus3.append(text)\n",
    "    \n",
    "word_cloud3 = WordCloud(width = 800,\n",
    "                       height = 600,\n",
    "                       colormap = 'RdYlGn', \n",
    "                       margin = 0,\n",
    "                       max_words = 200,  \n",
    "                       min_word_length = 4,\n",
    "                       max_font_size = 120, \n",
    "                       background_color = 'black').generate(' '.join(corpus3))\n",
    "\n",
    "plt.figure(figsize = (10, 10))\n",
    "plt.imshow(word_cloud3, interpolation = 'gaussian')\n",
    "plt.title('3 Star Review ')\n",
    "plt.axis('off')\n",
    "plt.show()\n",
    "\n",
    "rating3_words = list(word_cloud3.words_.keys())\n",
    "\n"
   ]
  },
  {
   "cell_type": "markdown",
   "metadata": {},
   "source": [
    "### 4 star rating Wordcloud"
   ]
  },
  {
   "cell_type": "code",
   "execution_count": null,
   "metadata": {},
   "outputs": [],
   "source": [
    "word_4 =  pd.DataFrame(train[train['rating']==4]['review'])\n",
    "word_4 = word_4.reset_index()\n",
    "word_4 = word_4.drop(['index'], axis = 1) \n",
    "word_4.head()"
   ]
  },
  {
   "cell_type": "code",
   "execution_count": null,
   "metadata": {},
   "outputs": [],
   "source": [
    "corpus4 = []\n",
    "for i in range(0,len(word_4)):\n",
    "    text = re.sub('[^a-zA-Z]', ' ', word_4['review'][i])\n",
    "    text = text.lower()\n",
    "    text = text.split()\n",
    "    text = [word for word in text if not word in stop_words]\n",
    "    text = ' '.join(text)\n",
    "    corpus4.append(text)\n",
    "    \n",
    "word_cloud4 = WordCloud(width = 800,\n",
    "                       height = 600,\n",
    "                       colormap = 'RdYlGn', \n",
    "                       margin = 0,\n",
    "                       max_words = 200,  \n",
    "                       min_word_length = 4,\n",
    "                       max_font_size = 120, \n",
    "                       background_color = 'black').generate(' '.join(corpus4))\n",
    "\n",
    "plt.figure(figsize = (10, 10))\n",
    "plt.imshow(word_cloud4, interpolation = 'gaussian')\n",
    "plt.title('4 Star Review ')\n",
    "plt.axis('off')\n",
    "plt.show()\n",
    "\n",
    "rating4_words = list(word_cloud4.words_.keys())\n",
    "\n"
   ]
  },
  {
   "cell_type": "markdown",
   "metadata": {},
   "source": [
    "### 5 star rating wordcloud"
   ]
  },
  {
   "cell_type": "code",
   "execution_count": null,
   "metadata": {},
   "outputs": [],
   "source": [
    "word_5 =  pd.DataFrame(train[train['rating']==5]['review'])\n",
    "word_5 = word_5.reset_index()\n",
    "word_5 = word_5.drop(['index'], axis = 1) \n",
    "word_5.head()"
   ]
  },
  {
   "cell_type": "code",
   "execution_count": null,
   "metadata": {},
   "outputs": [],
   "source": [
    "corpus5 = []\n",
    "for i in range(0,len(word_5)):\n",
    "    text = re.sub('[^a-zA-Z]', ' ', word_5['review'][i])\n",
    "    text = text.lower()\n",
    "    text = text.split()\n",
    "    text = [word for word in text if not word in stop_words]\n",
    "    text = ' '.join(text)\n",
    "    corpus5.append(text)\n",
    "    \n",
    "word_cloud5 = WordCloud(width = 800,\n",
    "                       height = 600,\n",
    "                       colormap = 'RdYlGn', \n",
    "                       margin = 0,\n",
    "                       max_words = 200,  \n",
    "                       min_word_length = 4,\n",
    "                       max_font_size = 120, \n",
    "                       background_color = 'black').generate(' '.join(corpus5))\n",
    "\n",
    "plt.figure(figsize = (10, 10))\n",
    "plt.imshow(word_cloud5, interpolation = 'gaussian')\n",
    "plt.title('5 Star Review ')\n",
    "plt.axis('off')\n",
    "plt.show()\n",
    "\n",
    "rating5_words = list(word_cloud5.words_.keys())\n",
    "\n"
   ]
  },
  {
   "cell_type": "markdown",
   "metadata": {},
   "source": [
    "### Words by Rating"
   ]
  },
  {
   "cell_type": "markdown",
   "metadata": {},
   "source": [
    "Having words by rating will help us later in creating a base model to predict rating based on reviews.\n",
    "\n",
    "For the ease of training purpose we will combine the 4 star and 5 star rating words. 1 star, 2 star and 3 star together"
   ]
  },
  {
   "cell_type": "code",
   "execution_count": null,
   "metadata": {},
   "outputs": [],
   "source": [
    "rating123 = []\n",
    "rating123.append(rating1_words)\n",
    "rating123.append(rating2_words)\n",
    "rating123.append(rating3_words)"
   ]
  },
  {
   "cell_type": "code",
   "execution_count": null,
   "metadata": {},
   "outputs": [],
   "source": [
    "rating45 = []\n",
    "rating45.append(rating4_words)\n",
    "rating45.append(rating5_words)"
   ]
  },
  {
   "cell_type": "code",
   "execution_count": null,
   "metadata": {},
   "outputs": [],
   "source": [
    "print(len(rating1_words))\n",
    "print(len(rating2_words))\n",
    "print(len(rating3_words))\n",
    "print(len(rating4_words))\n",
    "print(len(rating5_words))\n"
   ]
  },
  {
   "cell_type": "code",
   "execution_count": null,
   "metadata": {},
   "outputs": [],
   "source": [
    "\n",
    "list3 = set(rating1_words)&set(rating2_words)&set(rating3_words)&set(rating4_words)&set(rating5_words)\n",
    "\n",
    "common_words = sorted(list3, key = lambda k : rating1_words.index(k))"
   ]
  },
  {
   "cell_type": "code",
   "execution_count": null,
   "metadata": {},
   "outputs": [],
   "source": [
    "print(common_words)"
   ]
  },
  {
   "cell_type": "code",
   "execution_count": null,
   "metadata": {},
   "outputs": [],
   "source": [
    "with open(\"file.txt\", 'w') as f:\n",
    "    for s in common_words:\n",
    "        f.write(str(s) + '\\n')"
   ]
  },
  {
   "cell_type": "code",
   "execution_count": null,
   "metadata": {},
   "outputs": [],
   "source": []
  },
  {
   "cell_type": "code",
   "execution_count": null,
   "metadata": {},
   "outputs": [],
   "source": []
  },
  {
   "cell_type": "code",
   "execution_count": null,
   "metadata": {},
   "outputs": [],
   "source": []
  },
  {
   "cell_type": "code",
   "execution_count": null,
   "metadata": {},
   "outputs": [],
   "source": []
  }
 ],
 "metadata": {
  "kernelspec": {
   "display_name": "Python 3",
   "language": "python",
   "name": "python3"
  },
  "language_info": {
   "codemirror_mode": {
    "name": "ipython",
    "version": 3
   },
   "file_extension": ".py",
   "mimetype": "text/x-python",
   "name": "python",
   "nbconvert_exporter": "python",
   "pygments_lexer": "ipython3",
   "version": "3.7.1"
  }
 },
 "nbformat": 4,
 "nbformat_minor": 4
}
